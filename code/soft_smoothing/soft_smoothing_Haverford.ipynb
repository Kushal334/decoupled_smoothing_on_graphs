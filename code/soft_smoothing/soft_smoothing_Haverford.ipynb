{
 "cells": [
  {
   "cell_type": "markdown",
   "metadata": {},
   "source": [
    "# Summary: \n",
    "This notebook contains the soft smoothing figures for Haverford(Figure 2(d))."
   ]
  },
  {
   "cell_type": "markdown",
   "metadata": {},
   "source": [
    "## load libraries"
   ]
  },
  {
   "cell_type": "code",
   "execution_count": 2,
   "metadata": {},
   "outputs": [],
   "source": [
    "from __future__ import division\n",
    "\n",
    "import networkx as nx\n",
    "\n",
    "import numpy as np\n",
    "import os\n",
    "from sklearn import metrics\n",
    "from sklearn.preprocessing import label_binarize\n",
    "from sklearn.metrics import confusion_matrix\n",
    "from sklearn.metrics import f1_score\n",
    "from sklearn.metrics import roc_auc_score\n",
    "from sklearn.model_selection import StratifiedShuffleSplit\n",
    "\n",
    "import matplotlib.pyplot as plt\n",
    "\n",
    "## function to create + save dictionary of features\n",
    "def create_dict(key, obj):\n",
    "    return(dict([(key[i], obj[i]) for i in range(len(key))]))"
   ]
  },
  {
   "cell_type": "markdown",
   "metadata": {},
   "source": [
    "## load helper functions and datasets"
   ]
  },
  {
   "cell_type": "code",
   "execution_count": 3,
   "metadata": {},
   "outputs": [],
   "source": [
    "# set the working directory and import helper functions\n",
    "#get the current working directory and then redirect into the functions under code \n",
    "cwd = os.getcwd()\n",
    "\n",
    "# parents working directory of the current directory: which is the code folder\n",
    "parent_cwd = os.path.dirname(cwd)\n",
    "# get into the functions folder\n",
    "functions_cwd = parent_cwd + '/functions'\n",
    "# change the working directory to be .../functions\n",
    "os.chdir(functions_cwd)\n",
    "\n",
    "# import all helper functions\n",
    "exec(open('parsing.py').read())\n",
    "exec(open('ZGL.py').read())\n",
    "exec(open('create_graph.py').read())\n",
    "exec(open('ZGL_softing_new_new.py').read())\n",
    "\n",
    "\n",
    "# import the data from the data folder\n",
    "data_cwd = os.path.dirname(parent_cwd)+ '/data'\n",
    "\n",
    "# change the working directory and import the fb dataset\n",
    "fb100_file = data_cwd +'/Haverford76'\n",
    "\n",
    "A, metadata = parse_fb100_mat_file(fb100_file)\n",
    "\n",
    "# change A(scipy csc matrix) into a numpy matrix\n",
    "adj_matrix_tmp = A.todense()\n",
    "#get the gender for each node(1/2,0 for missing)\n",
    "gender_y_tmp = metadata[:,1] \n",
    "# get the corresponding gender for each node in a disctionary form\n",
    "gender_dict = create_dict(range(len(gender_y_tmp)), gender_y_tmp)\n",
    "\n",
    "\n",
    "#exec(open(\"/Users/yatong_chen/Google Drive/research/DSG_empirical/code/functions/create_graph.py\").read())\n",
    "(graph, gender_y)  = create_graph(adj_matrix_tmp,gender_dict,'gender',0,None,'yes')\n"
   ]
  },
  {
   "cell_type": "markdown",
   "metadata": {},
   "source": [
    "## Setup"
   ]
  },
  {
   "cell_type": "code",
   "execution_count": 4,
   "metadata": {},
   "outputs": [],
   "source": [
    "adj_matrix_gender = np.array(nx.adjacency_matrix(graph).todense()) \n",
    "percent_initially_unlabelled = [0.99,0.95,0.9,0.8,0.7,0.6,0.5,0.4,0.3,0.2,0.1,0.05] \n",
    "percent_initially_labelled = np.subtract(1, percent_initially_unlabelled)    \n",
    "n_iter = 10\n",
    "cv_setup = 'stratified'\n",
    "w = [0.1,1,10,100,1000,10000]"
   ]
  },
  {
   "cell_type": "markdown",
   "metadata": {},
   "source": [
    "## Hard Smoothing (ZGL method)"
   ]
  },
  {
   "cell_type": "code",
   "execution_count": 7,
   "metadata": {},
   "outputs": [
    {
     "name": "stdout",
     "output_type": "stream",
     "text": [
      "0.99\n"
     ]
    },
    {
     "name": "stderr",
     "output_type": "stream",
     "text": [
      "/Users/yatong_chen/anaconda3/lib/python3.7/site-packages/sklearn/metrics/classification.py:1143: UndefinedMetricWarning: F-score is ill-defined and being set to 0.0 in labels with no predicted samples.\n",
      "  'precision', 'predicted', average, warn_for)\n"
     ]
    },
    {
     "name": "stdout",
     "output_type": "stream",
     "text": [
      "0.95\n",
      "0.9\n",
      "0.8\n",
      "0.7\n",
      "0.6\n",
      "0.5\n",
      "0.4\n",
      "0.3\n",
      "0.2\n",
      "0.1\n",
      "0.05\n"
     ]
    }
   ],
   "source": [
    "# run ZGL part\n",
    "#adj_matrix_tmp_ZGL = adj_matrix_tmp\n",
    "(mean_accuracy_zgl_Haverford, se_accuracy_zgl_Haverford, \n",
    "mean_micro_auc_zgl_Haverford,se_micro_auc_zgl_Haverford, \n",
    "mean_wt_auc_zgl_Haverford,se_wt_auc_zgl_Haverford) =ZGL(np.array(adj_matrix_gender),\n",
    "                                    np.array(gender_y),percent_initially_unlabelled, \n",
    "                                    n_iter,cv_setup)"
   ]
  },
  {
   "cell_type": "markdown",
   "metadata": {},
   "source": [
    "## Soft smoothing (with different parameters w)"
   ]
  },
  {
   "cell_type": "code",
   "execution_count": 8,
   "metadata": {},
   "outputs": [
    {
     "name": "stdout",
     "output_type": "stream",
     "text": [
      "/Users/yatong_chen/Google Drive/research/DSG_empirical/code/functions\n",
      "0.99\n",
      "here\n"
     ]
    },
    {
     "name": "stderr",
     "output_type": "stream",
     "text": [
      "/Users/yatong_chen/anaconda3/lib/python3.7/site-packages/sklearn/metrics/classification.py:1143: UndefinedMetricWarning: F-score is ill-defined and being set to 0.0 in labels with no predicted samples.\n",
      "  'precision', 'predicted', average, warn_for)\n",
      "/Users/yatong_chen/anaconda3/lib/python3.7/site-packages/sklearn/metrics/classification.py:1143: UndefinedMetricWarning: F-score is ill-defined and being set to 0.0 in labels with no predicted samples.\n",
      "  'precision', 'predicted', average, warn_for)\n",
      "/Users/yatong_chen/anaconda3/lib/python3.7/site-packages/sklearn/metrics/classification.py:1143: UndefinedMetricWarning: F-score is ill-defined and being set to 0.0 in labels with no predicted samples.\n",
      "  'precision', 'predicted', average, warn_for)\n",
      "/Users/yatong_chen/anaconda3/lib/python3.7/site-packages/sklearn/metrics/classification.py:1143: UndefinedMetricWarning: F-score is ill-defined and being set to 0.0 in labels with no predicted samples.\n",
      "  'precision', 'predicted', average, warn_for)\n"
     ]
    },
    {
     "name": "stdout",
     "output_type": "stream",
     "text": [
      "0.95\n",
      "here\n",
      "0.9\n",
      "here\n",
      "0.8\n",
      "here\n",
      "0.7\n",
      "here\n",
      "0.6\n",
      "here\n",
      "0.5\n",
      "here\n",
      "0.4\n",
      "here\n",
      "0.3\n",
      "here\n",
      "0.2\n",
      "here\n",
      "0.1\n",
      "here\n",
      "0.05\n",
      "here\n",
      "/Users/yatong_chen/Google Drive/research/DSG_empirical/code/functions\n",
      "0.99\n",
      "here\n"
     ]
    },
    {
     "name": "stderr",
     "output_type": "stream",
     "text": [
      "/Users/yatong_chen/anaconda3/lib/python3.7/site-packages/sklearn/metrics/classification.py:1143: UndefinedMetricWarning: F-score is ill-defined and being set to 0.0 in labels with no predicted samples.\n",
      "  'precision', 'predicted', average, warn_for)\n",
      "/Users/yatong_chen/anaconda3/lib/python3.7/site-packages/sklearn/metrics/classification.py:1143: UndefinedMetricWarning: F-score is ill-defined and being set to 0.0 in labels with no predicted samples.\n",
      "  'precision', 'predicted', average, warn_for)\n",
      "/Users/yatong_chen/anaconda3/lib/python3.7/site-packages/sklearn/metrics/classification.py:1143: UndefinedMetricWarning: F-score is ill-defined and being set to 0.0 in labels with no predicted samples.\n",
      "  'precision', 'predicted', average, warn_for)\n",
      "/Users/yatong_chen/anaconda3/lib/python3.7/site-packages/sklearn/metrics/classification.py:1143: UndefinedMetricWarning: F-score is ill-defined and being set to 0.0 in labels with no predicted samples.\n",
      "  'precision', 'predicted', average, warn_for)\n"
     ]
    },
    {
     "name": "stdout",
     "output_type": "stream",
     "text": [
      "0.95\n",
      "here\n",
      "0.9\n",
      "here\n",
      "0.8\n",
      "here\n",
      "0.7\n",
      "here\n",
      "0.6\n",
      "here\n",
      "0.5\n",
      "here\n",
      "0.4\n",
      "here\n",
      "0.3\n",
      "here\n",
      "0.2\n",
      "here\n",
      "0.1\n",
      "here\n",
      "0.05\n",
      "here\n",
      "/Users/yatong_chen/Google Drive/research/DSG_empirical/code/functions\n",
      "0.99\n",
      "here\n"
     ]
    },
    {
     "name": "stderr",
     "output_type": "stream",
     "text": [
      "/Users/yatong_chen/anaconda3/lib/python3.7/site-packages/sklearn/metrics/classification.py:1143: UndefinedMetricWarning: F-score is ill-defined and being set to 0.0 in labels with no predicted samples.\n",
      "  'precision', 'predicted', average, warn_for)\n",
      "/Users/yatong_chen/anaconda3/lib/python3.7/site-packages/sklearn/metrics/classification.py:1143: UndefinedMetricWarning: F-score is ill-defined and being set to 0.0 in labels with no predicted samples.\n",
      "  'precision', 'predicted', average, warn_for)\n",
      "/Users/yatong_chen/anaconda3/lib/python3.7/site-packages/sklearn/metrics/classification.py:1143: UndefinedMetricWarning: F-score is ill-defined and being set to 0.0 in labels with no predicted samples.\n",
      "  'precision', 'predicted', average, warn_for)\n",
      "/Users/yatong_chen/anaconda3/lib/python3.7/site-packages/sklearn/metrics/classification.py:1143: UndefinedMetricWarning: F-score is ill-defined and being set to 0.0 in labels with no predicted samples.\n",
      "  'precision', 'predicted', average, warn_for)\n"
     ]
    },
    {
     "name": "stdout",
     "output_type": "stream",
     "text": [
      "0.95\n",
      "here\n",
      "0.9\n",
      "here\n",
      "0.8\n",
      "here\n",
      "0.7\n",
      "here\n",
      "0.6\n",
      "here\n",
      "0.5\n",
      "here\n",
      "0.4\n",
      "here\n",
      "0.3\n",
      "here\n",
      "0.2\n",
      "here\n",
      "0.1\n",
      "here\n",
      "0.05\n",
      "here\n",
      "/Users/yatong_chen/Google Drive/research/DSG_empirical/code/functions\n",
      "0.99\n",
      "here\n",
      "0.95\n",
      "here\n",
      "0.9\n",
      "here\n",
      "0.8\n",
      "here\n",
      "0.7\n",
      "here\n",
      "0.6\n",
      "here\n",
      "0.5\n",
      "here\n",
      "0.4\n",
      "here\n",
      "0.3\n",
      "here\n",
      "0.2\n",
      "here\n",
      "0.1\n",
      "here\n",
      "0.05\n",
      "here\n",
      "/Users/yatong_chen/Google Drive/research/DSG_empirical/code/functions\n",
      "0.99\n",
      "here\n"
     ]
    },
    {
     "name": "stderr",
     "output_type": "stream",
     "text": [
      "/Users/yatong_chen/anaconda3/lib/python3.7/site-packages/sklearn/metrics/classification.py:1143: UndefinedMetricWarning: F-score is ill-defined and being set to 0.0 in labels with no predicted samples.\n",
      "  'precision', 'predicted', average, warn_for)\n"
     ]
    },
    {
     "name": "stdout",
     "output_type": "stream",
     "text": [
      "0.95\n",
      "here\n",
      "0.9\n",
      "here\n",
      "0.8\n",
      "here\n",
      "0.7\n",
      "here\n",
      "0.6\n",
      "here\n",
      "0.5\n",
      "here\n",
      "0.4\n",
      "here\n",
      "0.3\n",
      "here\n",
      "0.2\n",
      "here\n",
      "0.1\n",
      "here\n",
      "0.05\n",
      "here\n",
      "/Users/yatong_chen/Google Drive/research/DSG_empirical/code/functions\n",
      "0.99\n",
      "here\n"
     ]
    },
    {
     "name": "stderr",
     "output_type": "stream",
     "text": [
      "/Users/yatong_chen/anaconda3/lib/python3.7/site-packages/sklearn/metrics/classification.py:1143: UndefinedMetricWarning: F-score is ill-defined and being set to 0.0 in labels with no predicted samples.\n",
      "  'precision', 'predicted', average, warn_for)\n"
     ]
    },
    {
     "name": "stdout",
     "output_type": "stream",
     "text": [
      "0.95\n",
      "here\n",
      "0.9\n",
      "here\n",
      "0.8\n",
      "here\n",
      "0.7\n",
      "here\n",
      "0.6\n",
      "here\n",
      "0.5\n",
      "here\n",
      "0.4\n",
      "here\n",
      "0.3\n",
      "here\n",
      "0.2\n",
      "here\n",
      "0.1\n",
      "here\n",
      "0.05\n",
      "here\n"
     ]
    }
   ],
   "source": [
    "# NEW NEW ZGL without original training node\n",
    "(graph, gender_y)  = create_graph(adj_matrix_tmp,gender_dict,'gender',0,None,'yes')\n",
    "\n",
    "(mean_accuracy_zgl_softing_new_new_Haverford01, se_accuracy_zgl_softing_new_new_Haverford01, \n",
    "mean_micro_auc_zgl_softing_new_new_Haverford01,se_micro_auc_zgl_softing_new_new_Haverford01, \n",
    "mean_wt_auc_zgl_softing_new_new_Haverford01,se_wt_auc_zgl_softing_new_new_Haverford01) = ZGL_softing_new_new(w[0], adj_matrix_tmp,\n",
    "                                    gender_dict,'gender', percent_initially_unlabelled, n_iter,cv_setup)\n",
    "\n",
    "(mean_accuracy_zgl_softing_new_new_Haverford1, se_accuracy_zgl_softing_new_new_Haverford1, \n",
    "mean_micro_auc_zgl_softing_new_new_Haverford1,se_micro_auc_zgl_softing_new_new_Haverford1, \n",
    "mean_wt_auc_zgl_softing_new_new_Haverford1,se_wt_auc_zgl_softing_new_new_Haverford1) = ZGL_softing_new_new(w[1], adj_matrix_tmp,\n",
    "                                    gender_dict,'gender', percent_initially_unlabelled, n_iter,cv_setup)\n",
    "\n",
    "\n",
    "(mean_accuracy_zgl_softing_new_new_Haverford10, se_accuracy_zgl_softing_new_new_Haverford10, \n",
    "mean_micro_auc_zgl_softing_new_new_Haverford10,se_micro_auc_zgl_softing_new_new_Haverford10, \n",
    "mean_wt_auc_zgl_softing_new_new_Haverford10,se_wt_auc_zgl_softing_new_new_Haverford10) = ZGL_softing_new_new(w[2], adj_matrix_tmp,\n",
    "                                    gender_dict,'gender', percent_initially_unlabelled, n_iter,cv_setup)\n",
    "\n",
    "\n",
    "(mean_accuracy_zgl_softing_new_new_Haverford100, se_accuracy_zgl_softing_new_new_Haverford100, \n",
    "mean_micro_auc_zgl_softing_new_new_Haverford100,se_micro_auc_zgl_softing_new_new_Haverford100, \n",
    "mean_wt_auc_zgl_softing_new_new_Haverford100,se_wt_auc_zgl_softing_new_new_Haverford100) = ZGL_softing_new_new(w[3], adj_matrix_tmp,\n",
    "                                    gender_dict,'gender', percent_initially_unlabelled, n_iter,cv_setup)\n",
    "\n",
    "\n",
    "\n",
    "(mean_accuracy_zgl_softing_new_new_Haverford1000, se_accuracy_zgl_softing_new_new_Haverford1000, \n",
    "mean_micro_auc_zgl_softing_new_new_Haverford1000,se_micro_auc_zgl_softing_new_new_Haverford1000, \n",
    "mean_wt_auc_zgl_softing_new_new_Haverford1000,se_wt_auc_zgl_softing_new_new_Haverford1000) = ZGL_softing_new_new(w[4], adj_matrix_tmp,\n",
    "                                    gender_dict,'gender', percent_initially_unlabelled, n_iter,cv_setup)\n",
    "\n",
    "(mean_accuracy_zgl_softing_new_new_Haverford10000, se_accuracy_zgl_softing_new_new_Haverford10000, \n",
    "mean_micro_auc_zgl_softing_new_new_Haverford10000,se_micro_auc_zgl_softing_new_new_Haverford10000, \n",
    "mean_wt_auc_zgl_softing_new_new_Haverford10000,se_wt_auc_zgl_softing_new_new_Haverford10000) = ZGL_softing_new_new(w[5], adj_matrix_tmp,\n",
    "                                    gender_dict,'gender', percent_initially_unlabelled, n_iter,cv_setup)"
   ]
  },
  {
   "cell_type": "markdown",
   "metadata": {},
   "source": [
    "## Plot: \n",
    "AUC against Initial unlabled node precentage"
   ]
  },
  {
   "cell_type": "code",
   "execution_count": 9,
   "metadata": {},
   "outputs": [
    {
     "data": {
      "image/png": "[encoded data removed]",
      "text/plain": [
       "<Figure size 432x288 with 1 Axes>"
      ]
     },
     "metadata": {
      "needs_background": "light"
     },
     "output_type": "display_data"
    }
   ],
   "source": [
    "%matplotlib inline\n",
    "from matplotlib.ticker import FixedLocator,LinearLocator,MultipleLocator, FormatStrFormatter\n",
    "\n",
    "fig = plt.figure()\n",
    "#seaborn.set_style(style='white')\n",
    "from mpl_toolkits.axes_grid1 import Grid\n",
    "grid = Grid(fig, rect=111, nrows_ncols=(1,1),\n",
    "            axes_pad=0.1, label_mode='L')\n",
    "for i in range(4):\n",
    "    if i == 0:\n",
    "        # set the x and y axis\n",
    "        grid[i].xaxis.set_major_locator(FixedLocator([0,25,50,75,100]))\n",
    "        grid[i].yaxis.set_major_locator(FixedLocator([0.4, 0.5,0.6,0.7,0.8,0.9,1]))\n",
    "\n",
    "        grid[i].errorbar(percent_initially_labelled*100, mean_wt_auc_zgl_Haverford,\n",
    "            yerr=se_wt_auc_zgl_Haverford, fmt='--o', capthick=2,\n",
    "            alpha=1, elinewidth=8, color='black')\n",
    "\n",
    "        \n",
    "        grid[i].errorbar(percent_initially_labelled*100, mean_wt_auc_zgl_softing_new_new_Haverford01,\n",
    "            yerr=se_wt_auc_zgl_softing_new_new_Haverford01, fmt='--o', capthick=2,\n",
    "            alpha=1, elinewidth=3, color='gold')\n",
    "        \n",
    "        grid[i].errorbar(percent_initially_labelled*100, mean_wt_auc_zgl_softing_new_new_Haverford1,\n",
    "            yerr=se_wt_auc_zgl_softing_new_new_Haverford1, fmt='--o', capthick=2,\n",
    "            alpha=1, elinewidth=3, color='darkorange')        \n",
    "        \n",
    "        grid[i].errorbar(percent_initially_labelled*100, mean_wt_auc_zgl_softing_new_new_Haverford10,\n",
    "            yerr=se_wt_auc_zgl_softing_new_new_Haverford10, fmt='--o', capthick=2,\n",
    "            alpha=1, elinewidth=3, color='crimson')     \n",
    "\n",
    "        \n",
    "        grid[i].errorbar(percent_initially_labelled*100, mean_wt_auc_zgl_softing_new_new_Haverford100,\n",
    "            yerr=se_wt_auc_zgl_softing_new_new_Haverford100, fmt='--o', capthick=2,\n",
    "            alpha=1, elinewidth=3, color='red') \n",
    "\n",
    "        \n",
    "        grid[i].errorbar(percent_initially_labelled*100, mean_wt_auc_zgl_softing_new_new_Haverford1000,\n",
    "            yerr=se_wt_auc_zgl_softing_new_new_Haverford1000, fmt='--o', capthick=2,\n",
    "            alpha=1, elinewidth=3, color='maroon') \n",
    "        \n",
    "        \n",
    "        grid[i].errorbar(percent_initially_labelled*100, mean_wt_auc_zgl_softing_new_new_Haverford10000,\n",
    "            yerr=se_wt_auc_zgl_softing_new_new_Haverford10000, fmt='--o', capthick=2,\n",
    "            alpha=1, elinewidth=3, color='darkred')         \n",
    "\n",
    "        \n",
    "        grid[i].set_ylim(0.45,1)\n",
    "        grid[i].set_xlim(0,101)\n",
    "        \n",
    "        \n",
    "        grid[i].annotate('soft: a = 0.001', xy=(3, 0.96), \n",
    "                 color='gold', alpha=1, size=12)\n",
    "        grid[i].annotate('soft: a = 1', xy=(3, 0.92), \n",
    "                 color='darkorange', alpha=1, size=12)\n",
    "        grid[i].annotate('soft: a = 10', xy=(3, 0.88), \n",
    "                 color='red', alpha=1, size=12)\n",
    "        grid[i].annotate('soft: a = 100', xy=(3, 0.84), \n",
    "                 color='crimson', alpha=1, size=12)        \n",
    "        grid[i].annotate('soft: a = 1000', xy=(3, 0.80), \n",
    "                 color='maroon', alpha=1, size=12)\n",
    "        grid[i].annotate('soft: a = 1000000', xy=(3, 0.76), \n",
    "                 color='darkred', alpha=1, size=12)          \n",
    "        grid[i].annotate('hard smoothing', xy=(3, 0.72), \n",
    "                 color='black', alpha=1, size=12)        \n",
    "       \n",
    "        grid[i].set_ylim(0.4,0.8)\n",
    "        grid[i].set_xlim(0,100)\n",
    "        grid[i].spines['right'].set_visible(False)\n",
    "        grid[i].spines['top'].set_visible(False)\n",
    "        grid[i].tick_params(axis='both', which='major', labelsize=13)\n",
    "        grid[i].tick_params(axis='both', which='minor', labelsize=13)\n",
    "        grid[i].set_xlabel('Percent of Nodes Initially Labeled').set_fontsize(15)\n",
    "        grid[i].set_ylabel('AUC').set_fontsize(15)\n",
    "\n",
    "grid[0].set_xticks([0,25, 50, 75, 100])\n",
    "grid[0].set_yticks([0.4,0.6,0.8,1])\n",
    "\n",
    "\n",
    "grid[0].minorticks_on()\n",
    "grid[0].tick_params('both', length=4, width=1, which='major', left=1, bottom=1, top=0, right=0)\n"
   ]
  },
  {
   "cell_type": "code",
   "execution_count": null,
   "metadata": {},
   "outputs": [],
   "source": []
  },
  {
   "cell_type": "code",
   "execution_count": null,
   "metadata": {},
   "outputs": [],
   "source": []
  },
  {
   "cell_type": "code",
   "execution_count": null,
   "metadata": {},
   "outputs": [],
   "source": []
  },
  {
   "cell_type": "code",
   "execution_count": null,
   "metadata": {},
   "outputs": [],
   "source": []
  }
 ],
 "metadata": {
  "kernelspec": {
   "display_name": "Python 3",
   "language": "python",
   "name": "python3"
  },
  "language_info": {
   "codemirror_mode": {
    "name": "ipython",
    "version": 3
   },
   "file_extension": ".py",
   "mimetype": "text/x-python",
   "name": "python",
   "nbconvert_exporter": "python",
   "pygments_lexer": "ipython3",
   "version": "3.7.1"
  }
 },
 "nbformat": 4,
 "nbformat_minor": 2
}
